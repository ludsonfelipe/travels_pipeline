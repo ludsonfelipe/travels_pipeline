{
 "cells": [
  {
   "cell_type": "code",
   "execution_count": 17,
   "id": "717e77b0-bc5a-446f-b432-8d7c2b10b431",
   "metadata": {
    "tags": []
   },
   "outputs": [],
   "source": [
    "from pyspark.sql.functions import col \n",
    "df = spark.read.json('s3a://bronze/relational_db/postgres.public.motoristas-*.json', )"
   ]
  },
  {
   "cell_type": "code",
   "execution_count": 18,
   "id": "6be75b84-f505-41c0-82ed-f8ae856326b2",
   "metadata": {},
   "outputs": [
    {
     "name": "stdout",
     "output_type": "stream",
     "text": [
      "root\n",
      " |-- value: struct (nullable = true)\n",
      " |    |-- after: struct (nullable = true)\n",
      " |    |    |-- avaliacao: double (nullable = true)\n",
      " |    |    |-- motorista_id: long (nullable = true)\n",
      " |    |    |-- status: string (nullable = true)\n",
      " |    |    |-- usuario_id: long (nullable = true)\n",
      " |    |-- before: string (nullable = true)\n",
      " |    |-- op: string (nullable = true)\n",
      " |    |-- source: struct (nullable = true)\n",
      " |    |    |-- connector: string (nullable = true)\n",
      " |    |    |-- db: string (nullable = true)\n",
      " |    |    |-- lsn: long (nullable = true)\n",
      " |    |    |-- name: string (nullable = true)\n",
      " |    |    |-- schema: string (nullable = true)\n",
      " |    |    |-- sequence: string (nullable = true)\n",
      " |    |    |-- snapshot: string (nullable = true)\n",
      " |    |    |-- table: string (nullable = true)\n",
      " |    |    |-- ts_ms: long (nullable = true)\n",
      " |    |    |-- txId: long (nullable = true)\n",
      " |    |    |-- version: string (nullable = true)\n",
      " |    |    |-- xmin: string (nullable = true)\n",
      " |    |-- transaction: string (nullable = true)\n",
      " |    |-- ts_ms: long (nullable = true)\n",
      "\n"
     ]
    }
   ],
   "source": [
    "df.printSchema()"
   ]
  },
  {
   "cell_type": "code",
   "execution_count": 20,
   "id": "d2377bd3-6c00-4c52-8507-0a3e8abc97cb",
   "metadata": {},
   "outputs": [
    {
     "name": "stdout",
     "output_type": "stream",
     "text": [
      "root\n",
      " |-- avaliacao: double (nullable = true)\n",
      " |-- motorista_id: long (nullable = true)\n",
      " |-- status: string (nullable = true)\n",
      " |-- avaliacao: double (nullable = true)\n",
      "\n"
     ]
    }
   ],
   "source": [
    "df_motoristas = df.select(col('value.after.avaliacao').alias('avaliacao'), \n",
    "                          col('value.after.motorista_id').alias('motorista_id'),\n",
    "                          col('value.after.status').alias('status'),\n",
    "                          col('value.after.avaliacao').alias('avaliacao')\n",
    "                         )"
   ]
  },
  {
   "cell_type": "code",
   "execution_count": null,
   "id": "492b5ba7-56b7-45bd-b659-f17be9bf825e",
   "metadata": {},
   "outputs": [],
   "source": []
  }
 ],
 "metadata": {
  "kernelspec": {
   "display_name": "Python 3 (ipykernel)",
   "language": "python",
   "name": "python3"
  },
  "language_info": {
   "codemirror_mode": {
    "name": "ipython",
    "version": 3
   },
   "file_extension": ".py",
   "mimetype": "text/x-python",
   "name": "python",
   "nbconvert_exporter": "python",
   "pygments_lexer": "ipython3",
   "version": "3.9.2"
  }
 },
 "nbformat": 4,
 "nbformat_minor": 5
}
